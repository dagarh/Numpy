{
 "cells": [
  {
   "cell_type": "code",
   "execution_count": 3,
   "metadata": {},
   "outputs": [
    {
     "name": "stdout",
     "output_type": "stream",
     "text": [
      "[0 2 4 6 8]\n",
      "[[1 2 3]\n",
      " [4 5 6]]\n",
      "<class 'numpy.ndarray'>\n",
      "(5,)\n",
      "(2, 3)\n"
     ]
    }
   ],
   "source": [
    "# numpy and scipy are pretty awesome python libraries for scientific computing\n",
    "# Let's quickly do a round up of what these 2 libraries can help us do\n",
    "\n",
    "# Python lists are amazing, but many times you'll want to put your data into grids\n",
    "# and perform mathematical operations with them. A numpy array is a way to put your data\n",
    "# in a matrix (grid). \n",
    "# Numpy then has a number of cool functions to manipulate this data\n",
    "import numpy as np\n",
    "import scipy\n",
    "# An array can have any number of dimensions \n",
    "# A 1-d array is like a list (The number of dimensions is also known as rank)\n",
    "array1d=np.array([0,2,4,6,8])\n",
    "print(array1d)\n",
    "\n",
    "# A 2-d array is like a 2-d grid. Create it using a list of lists\n",
    "array2d=np.array([[1,2,3],[4,5,6]])\n",
    "\n",
    "print(array2d)\n",
    "\n",
    "\n",
    "print(type(array1d))\n",
    "\n",
    "\n",
    "# shape is a tuple which contains the size of the array ie (the number of rows, the number of \n",
    "# columns)\n",
    "print(array1d.shape)\n",
    "\n",
    "print(array2d.shape)"
   ]
  },
  {
   "cell_type": "code",
   "execution_count": 4,
   "metadata": {},
   "outputs": [
    {
     "name": "stdout",
     "output_type": "stream",
     "text": [
      "0\n",
      "6\n",
      "[2 4 6 8]\n",
      "[4]\n",
      "[5 6]\n"
     ]
    }
   ],
   "source": [
    "# You can index elements of an array pretty much like you do with lists\n",
    "# Like with lists, the indexing starts from 0\n",
    "print(array1d[0])\n",
    "\n",
    "# With a 2d array the syntax is slightly different. If you had a list of lists, and you \n",
    "# wanted the element in the ith row and the jth column you would index it by saying \n",
    "# listOfLists[i][j]\n",
    "# In a numpy array, you can index the element in the ith row and jth column as \n",
    "# arrayNumpy[i,j]\n",
    "\n",
    "print(array2d[1,2])\n",
    "# this will print the element in the second row and third column of array2d (indexing starts from\n",
    "# 0)\n",
    "\n",
    "\n",
    "# Just like with lists, you can use : to specify \"from the beginning\" or \"till the end\"\n",
    "print(array1d[1:])\n",
    "\n",
    "print(array2d[1,:1]) # This will print the elements in the second row , from the first element in \n",
    "# the second row, till the second element (not including the second element)\n",
    "\n",
    "\n",
    "print(array2d[1,1:]) # The elements in the second row, from the second element onwards"
   ]
  },
  {
   "cell_type": "code",
   "execution_count": 5,
   "metadata": {},
   "outputs": [
    {
     "name": "stdout",
     "output_type": "stream",
     "text": [
      "<class 'numpy.ndarray'>\n",
      "[ 6  9 14]\n"
     ]
    }
   ],
   "source": [
    "# In all the cases above, the result of the indexing is a numpy array which is a subset\n",
    "# of the original array \n",
    "subarray2d=array2d[1,1:]\n",
    "print(type(subarray2d))\n",
    "\n",
    "# There are other cool ways to index numpy arrays \n",
    "new2dArray=np.array([[1,2,4,5,9],[3,4,6,6,10],[15,3,2,14,7]])\n",
    "\n",
    "# Let's say you want the elements with indices [1,2], [0,4], [2,3]\n",
    "\n",
    "newSubArray=new2dArray[[1,0,2],[2,4,3]] # Arrays of integers to specify the indices\n",
    "print(newSubArray)"
   ]
  },
  {
   "cell_type": "code",
   "execution_count": 6,
   "metadata": {},
   "outputs": [
    {
     "name": "stdout",
     "output_type": "stream",
     "text": [
      "[15 14]\n",
      "[[False False False False False]\n",
      " [False False False False False]\n",
      " [ True False False  True False]]\n"
     ]
    }
   ],
   "source": [
    "# You can also use boolean indexing, ie subset the array to all the values which satisfy\n",
    "# a certain condition \n",
    "print(new2dArray[new2dArray>10])\n",
    "\n",
    "\n",
    "# new2dArray>10 will return an array with the same size and shape as the original array \n",
    "# Each element of that array will be a boolean which says whether the corresponding element \n",
    "# of the original array satisfies the given condition \n",
    "print(new2dArray>10)"
   ]
  },
  {
   "cell_type": "code",
   "execution_count": 7,
   "metadata": {},
   "outputs": [
    {
     "name": "stdout",
     "output_type": "stream",
     "text": [
      "[[0 0]\n",
      " [0 0]] \n",
      " [[ 1.  1.]] \n",
      " [[7 7 7 7 7]\n",
      " [7 7 7 7 7]\n",
      " [7 7 7 7 7]] \n",
      " [[ 1.  0.]\n",
      " [ 0.  1.]]\n",
      "[[ 0.02015128  0.55371096]\n",
      " [ 0.46107142  0.30205401]]\n"
     ]
    }
   ],
   "source": [
    "# You can create some standard kinds of arrays using built-in functions in numpy. \n",
    "# Ex: Arrays with all 0s, constant arrays, random numbers etc\n",
    "\n",
    "arrayOfZeros=np.zeros((2,2),dtype='int64') # Creates an array with all zeros. dtype is an optional\n",
    "# argument, its default value is float\n",
    "arrayOfOnes=np.ones((1,2)) # note how the size of the array is passed in as a tuple\n",
    "arraywithConstantValue = np.full(new2dArray.shape,7) # Creates an array with the same\n",
    "# size and shape as new2dArray, fills it with value 7 for all elements\n",
    "\n",
    "identityMatrix = np.eye(2)\n",
    "# Creates a 2x2 identity matrix ie a square grid of numbers with 2 rows and 2 columns\n",
    "# All the diagonal elements will be 1s and all the non-diagonal elements will be 0s\n",
    "\n",
    "print(arrayOfZeros,\"\\n\",arrayOfOnes,\"\\n\",arraywithConstantValue,\"\\n\",identityMatrix)\n",
    "\n",
    "\n",
    "# YOu can also fill an array with random numbers \n",
    "arrayOfRandomNumbers = np.random.random((2,2)) \n",
    "# This will create a 2x2 array with random numbers between the values 0 and 1. \n",
    "# To generate random numbers with a specific distribution, check out the \n",
    "# numpy documentation\n",
    "print(arrayOfRandomNumbers)"
   ]
  },
  {
   "cell_type": "code",
   "execution_count": 8,
   "metadata": {},
   "outputs": [
    {
     "name": "stdout",
     "output_type": "stream",
     "text": [
      "(3, 5) (5, 3)\n",
      "[[ 1  2  4  5  9  3  4  6  6 10 15  3  2 14  7]]\n",
      "[[ 1]\n",
      " [ 2]\n",
      " [ 4]\n",
      " [ 5]\n",
      " [ 9]\n",
      " [ 3]\n",
      " [ 4]\n",
      " [ 6]\n",
      " [ 6]\n",
      " [10]\n",
      " [15]\n",
      " [ 3]\n",
      " [ 2]\n",
      " [14]\n",
      " [ 7]]\n"
     ]
    }
   ],
   "source": [
    "# You can change the size and shape of your array \n",
    "transposeArray=np.transpose(new2dArray)\n",
    "\n",
    "print(new2dArray.shape, transposeArray.shape)\n",
    "\n",
    "# You can reshape array into any shape as long as the total number of elements remains \n",
    "# the same\n",
    "reshapedArray=np.reshape(new2dArray,[1,15])\n",
    "print(reshapedArray)\n",
    "\n",
    "reshapedArray=np.reshape(new2dArray,[15,1])\n",
    "print(reshapedArray)"
   ]
  },
  {
   "cell_type": "code",
   "execution_count": 10,
   "metadata": {},
   "outputs": [
    {
     "name": "stdout",
     "output_type": "stream",
     "text": [
      "[[ 8 10 12]\n",
      " [ 7  7  7]]\n",
      "[[-6 -6 -6]\n",
      " [ 1  3  5]]\n",
      "[[ 2  6 10]\n",
      " [ 5  9 13]]\n"
     ]
    }
   ],
   "source": [
    "# Normal mathematical operators like +,-,/,* can be used to perform element wise \n",
    "# operations. Both arrays have to be of the same dimension \n",
    "\n",
    "array1=np.array([[1,2,3],[4,5,6]])\n",
    "array2=np.array([[7,8,9],[3,2,1]])\n",
    "\n",
    "print(array1+array2)\n",
    "\n",
    "# instead of the math operators you can use functions equivalent to the operators\n",
    "# +,-,/,* are equivalent to add, subtract, divide,multiply\n",
    "print(np.subtract(array1,array2))\n",
    "\n",
    "# Broadcasting is a way in which you can add matrices or arrays of different dimensions\n",
    "array3=[[1,4,7]]\n",
    "\n",
    "print(array1+array3) # This will add array3 to each row of array1\n",
    "\n",
    "# The rule of thumb for broadcasting is that the arrays need to be able to align \n",
    "# along at least 1 dimension. For more details check the documentation"
   ]
  },
  {
   "cell_type": "code",
   "execution_count": 12,
   "metadata": {},
   "outputs": [
    {
     "name": "stdout",
     "output_type": "stream",
     "text": [
      "[[ 50  10]\n",
      " [122  28]]\n",
      "[5 7 9]\n",
      "[24  6]\n",
      "[[1 2 3]\n",
      " [4 5 6]\n",
      " [7 8 9]\n",
      " [3 2 1]]\n",
      "[[7 8 9 1 2 3]\n",
      " [3 2 1 4 5 6]]\n"
     ]
    }
   ],
   "source": [
    "# One important operation you'll need is to perform an inner product of 2 arrays \n",
    "# or multiply 2 matrices. Matrix multiplication is equivalent to taking inner products\n",
    "# of every row of the first matrix with every column of the second matrix \n",
    "# To multiply 2 matrices, you will need the number of columns of the left array\n",
    "# to be equal to the number of rows of the right array \n",
    "\n",
    "# print(np.dot(array1,array2)) # wont work because we have both 2x3 arrays\n",
    "\n",
    "print(np.dot(array1,array2.T)) # .T is shorthand for using np.transpose()\n",
    "\n",
    "# You can add or multiply all the elements along 1 dimension (or axis), This is \n",
    "# like compressing the array along that axis\n",
    "print(np.sum(array1,axis=0))\n",
    "\n",
    "print(np.sum(array2,axis=1))\n",
    "\n",
    "# stack arrays together using vstack or hstack. These functions take in a list/tuple/\n",
    "# array of arrays and then stack them vertically or horizontally to make a new array\n",
    "print(np.vstack((array1,array2)))\n",
    "\n",
    "print(np.hstack((array2,array1)))"
   ]
  },
  {
   "cell_type": "code",
   "execution_count": 13,
   "metadata": {},
   "outputs": [
    {
     "name": "stdout",
     "output_type": "stream",
     "text": [
      "1.5\n",
      "[[ 0.          1.41421356]\n",
      " [ 1.41421356  0.        ]]\n"
     ]
    }
   ],
   "source": [
    "# Scipy has many modules that help us compute mathematical functions \n",
    "# one example is the spatial module, given 2 points represented by \n",
    "# np arrays, scipy can help you find the distance between those points\n",
    "# The distance metric could be any one of a number of options ex: euclidean\n",
    "# cosine, correlation, hamming etc \n",
    "# pdist will compute pairwise distances between the rows in a numpy array \n",
    "\n",
    "from scipy.spatial.distance import correlation, cosine, pdist, squareform \n",
    "\n",
    "array1=np.array([0,1,0])\n",
    "array2=np.array([1,0,0])\n",
    "\n",
    "print(correlation(array1,array2))\n",
    "\n",
    "allPoints=np.vstack([array1,array2])\n",
    "d=squareform(pdist(allPoints, 'euclidean'))\n",
    "# The distance metric can be changed to cosine, correlation or any other distance\n",
    "# the complete list of options is available in scipy documentation \n",
    "# This will compute the pairwise distance between all rows of allPoints\n",
    "# d will be a square matrix with d[i,j] being the Euclidean distance between\n",
    "# allPoints[i,:] and allPoints[j,:]\n",
    "print(d)"
   ]
  },
  {
   "cell_type": "code",
   "execution_count": 2,
   "metadata": {},
   "outputs": [],
   "source": [
    "import numpy as np\n",
    "row1,row2 = np.array([[1,2,3,4],\n",
    "                      [5,6,7,8]])"
   ]
  },
  {
   "cell_type": "code",
   "execution_count": 4,
   "metadata": {},
   "outputs": [
    {
     "name": "stdout",
     "output_type": "stream",
     "text": [
      "<class 'numpy.ndarray'>\n",
      "[1 2 3 4]\n",
      "\n",
      "[5 6 7 8]\n"
     ]
    }
   ],
   "source": [
    "print(type(row1))\n",
    "print(row1,end='\\n\\n')\n",
    "print(row2)"
   ]
  },
  {
   "cell_type": "code",
   "execution_count": 9,
   "metadata": {},
   "outputs": [
    {
     "data": {
      "text/plain": [
       "10"
      ]
     },
     "execution_count": 9,
     "metadata": {},
     "output_type": "execute_result"
    }
   ],
   "source": [
    "x = np.array([1, 2, 3, 4])\n",
    "x.sum()"
   ]
  },
  {
   "cell_type": "code",
   "execution_count": 19,
   "metadata": {},
   "outputs": [
    {
     "name": "stdout",
     "output_type": "stream",
     "text": [
      "(4,)\n"
     ]
    },
    {
     "data": {
      "text/plain": [
       "array([[1, 2, 3, 4]])"
      ]
     },
     "execution_count": 19,
     "metadata": {},
     "output_type": "execute_result"
    }
   ],
   "source": [
    "a = np.array([1,2,3,4])\n",
    "print(a.shape)\n",
    "\n",
    "a = a[:,np.newaxis]\n",
    "a.reshape((1,4))"
   ]
  },
  {
   "cell_type": "code",
   "execution_count": 18,
   "metadata": {},
   "outputs": [
    {
     "data": {
      "text/plain": [
       "(4,)"
      ]
     },
     "execution_count": 18,
     "metadata": {},
     "output_type": "execute_result"
    }
   ],
   "source": [
    "np.ravel(a).shape"
   ]
  },
  {
   "cell_type": "code",
   "execution_count": null,
   "metadata": {
    "collapsed": true
   },
   "outputs": [],
   "source": [
    "# END"
   ]
  }
 ],
 "metadata": {
  "kernelspec": {
   "display_name": "Python 3",
   "language": "python",
   "name": "python3"
  },
  "language_info": {
   "codemirror_mode": {
    "name": "ipython",
    "version": 3
   },
   "file_extension": ".py",
   "mimetype": "text/x-python",
   "name": "python",
   "nbconvert_exporter": "python",
   "pygments_lexer": "ipython3",
   "version": "3.6.4"
  }
 },
 "nbformat": 4,
 "nbformat_minor": 2
}
